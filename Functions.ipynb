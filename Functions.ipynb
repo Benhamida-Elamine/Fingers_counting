{
 "cells": [
  {
   "cell_type": "code",
   "execution_count": 4,
   "metadata": {},
   "outputs": [],
   "source": [
    "import cv2\n",
    "import mediapipe \n",
    "\n",
    "class handDetector:\n",
    "    def __init__(self, mode=False, maxHands=2, detectionCon=0.5, trackCon=0.5):\n",
    "        self.mode = mode\n",
    "        self.maxHands = maxHands\n",
    "        self.detectionCon = detectionCon\n",
    "        self.trackCon = trackCon\n",
    "        \n",
    "        self.mpHands = mp.solutions.hands\n",
    "        self.hands = self.mpHands.Hands(self.mode, self.maxHands, self.detectionCon, self.trackCon)\n",
    "        self.mpDraw = mp.solutions.drawing_utils\n",
    "\n",
    "    def findHands(self, img, draw=True):\n",
    "        # Convertir l'image en RGB\n",
    "        imgRGB = cv2.cvtColor(img, cv2.COLOR_BGR2RGB)\n",
    "        \n",
    "        # Traiter l'image pour détecter les mains\n",
    "        self.results = self.hands.process(imgRGB)\n",
    "\n",
    "        # Vérifier si des mains ont été détectées\n",
    "        if self.results.multi_hand_landmarks:\n",
    "            for handLms in self.results.multi_hand_landmarks:\n",
    "                if draw:\n",
    "                    # Dessiner les points de repère et les connexions entre eux\n",
    "                    self.mpDraw.draw_landmarks(img, handLms, self.mpHands.HAND_CONNECTIONS)\n",
    "        \n",
    "        return img  # Retourner l'image avec les dessins si demandé\n",
    "\n",
    "    def findPosition(self, img, handNo=0, draw=True):\n",
    "        lmList = []  # Liste pour stocker les coordonnées des points de repère\n",
    "\n",
    "        # Vérifier si des mains ont été détectées\n",
    "        if self.results.multi_hand_landmarks:\n",
    "            myHand = self.results.multi_hand_landmarks[handNo]  # Sélectionner la main spécifiée\n",
    "\n",
    "            # Itérer à travers les points de repère de la main\n",
    "            for id, lm in enumerate(myHand.landmark):\n",
    "                h, w, c = img.shape  # Obtenir les dimensions de l'image\n",
    "                cx, cy = int(lm.x * w), int(lm.y * h)  # Convertir les coordonnées normalisées en pixels\n",
    "\n",
    "                lmList.append([id, cx, cy])  # Ajouter les coordonnées à la liste\n",
    "\n",
    "                if draw:\n",
    "                    # Dessiner un cercle sur le point de repère\n",
    "                    cv2.circle(img, (cx, cy), 15, (255, 0, 255), cv2.FILLED)\n",
    "\n",
    "        return lmList  # Retourner la liste des coordonnées des points de repère\n",
    "\n"
   ]
  },
  {
   "cell_type": "code",
   "execution_count": 2,
   "metadata": {},
   "outputs": [
    {
     "name": "stdout",
     "output_type": "stream",
     "text": [
      "Collecting opencv-python\n",
      "  Using cached opencv_python-4.10.0.84-cp37-abi3-win_amd64.whl (38.8 MB)\n",
      "Collecting numpy>=1.17.0\n",
      "  Downloading numpy-1.24.4-cp38-cp38-win_amd64.whl (14.9 MB)\n",
      "Installing collected packages: numpy, opencv-python\n",
      "Successfully installed numpy-1.24.4 opencv-python-4.10.0.84\n",
      "Note: you may need to restart the kernel to use updated packages.\n"
     ]
    },
    {
     "name": "stderr",
     "output_type": "stream",
     "text": [
      "  WARNING: The script f2py.exe is installed in 'c:\\Users\\Abdelmoumen\\AppData\\Local\\Programs\\Python\\Python38\\Scripts' which is not on PATH.\n",
      "  Consider adding this directory to PATH or, if you prefer to suppress this warning, use --no-warn-script-location.\n",
      "WARNING: You are using pip version 21.1.1; however, version 24.3.1 is available.\n",
      "You should consider upgrading via the 'c:\\Users\\Abdelmoumen\\AppData\\Local\\Programs\\Python\\Python38\\python.exe -m pip install --upgrade pip' command.\n"
     ]
    }
   ],
   "source": [
    "pip install opencv-python"
   ]
  },
  {
   "cell_type": "code",
   "execution_count": 3,
   "metadata": {},
   "outputs": [
    {
     "name": "stdout",
     "output_type": "stream",
     "text": [
      "Collecting mediapipe\n",
      "  Downloading mediapipe-0.10.11-cp38-cp38-win_amd64.whl (50.8 MB)\n",
      "Collecting opencv-contrib-python\n",
      "  Using cached opencv_contrib_python-4.10.0.84-cp37-abi3-win_amd64.whl (45.5 MB)\n",
      "Collecting matplotlib\n",
      "  Downloading matplotlib-3.7.5-cp38-cp38-win_amd64.whl (7.5 MB)\n",
      "Collecting jax\n",
      "  Downloading jax-0.4.13.tar.gz (1.3 MB)\n",
      "  Installing build dependencies: started\n",
      "  Installing build dependencies: finished with status 'done'\n",
      "  Getting requirements to build wheel: started\n",
      "  Getting requirements to build wheel: finished with status 'done'\n",
      "    Preparing wheel metadata: started\n",
      "    Preparing wheel metadata: finished with status 'done'\n",
      "Collecting absl-py\n",
      "  Using cached absl_py-2.1.0-py3-none-any.whl (133 kB)\n",
      "Requirement already satisfied: numpy in c:\\users\\abdelmoumen\\appdata\\local\\programs\\python\\python38\\lib\\site-packages (from mediapipe) (1.24.4)\n",
      "Collecting flatbuffers>=2.0\n",
      "  Downloading flatbuffers-24.12.23-py2.py3-none-any.whl (30 kB)\n",
      "Collecting attrs>=19.1.0\n",
      "  Downloading attrs-24.3.0-py3-none-any.whl (63 kB)\n",
      "Collecting sounddevice>=0.4.4\n",
      "  Using cached sounddevice-0.5.1-py3-none-win_amd64.whl (363 kB)\n",
      "Collecting protobuf<4,>=3.11\n",
      "  Downloading protobuf-3.20.3-cp38-cp38-win_amd64.whl (904 kB)\n",
      "Collecting CFFI>=1.0\n",
      "  Downloading cffi-1.17.1-cp38-cp38-win_amd64.whl (181 kB)\n",
      "Collecting pycparser\n",
      "  Downloading pycparser-2.22-py3-none-any.whl (117 kB)\n",
      "Collecting opt-einsum\n",
      "  Using cached opt_einsum-3.4.0-py3-none-any.whl (71 kB)\n",
      "Collecting scipy>=1.7\n",
      "  Downloading scipy-1.10.1-cp38-cp38-win_amd64.whl (42.2 MB)\n",
      "Requirement already satisfied: importlib-metadata>=4.6 in c:\\users\\abdelmoumen\\appdata\\roaming\\python\\python38\\site-packages (from jax->mediapipe) (8.5.0)\n",
      "Collecting ml-dtypes>=0.1.0\n",
      "  Downloading ml_dtypes-0.2.0-cp38-cp38-win_amd64.whl (938 kB)\n",
      "Requirement already satisfied: zipp>=3.20 in c:\\users\\abdelmoumen\\appdata\\roaming\\python\\python38\\site-packages (from importlib-metadata>=4.6->jax->mediapipe) (3.20.2)\n",
      "Collecting kiwisolver>=1.0.1\n",
      "  Downloading kiwisolver-1.4.7-cp38-cp38-win_amd64.whl (55 kB)\n",
      "Requirement already satisfied: python-dateutil>=2.7 in c:\\users\\abdelmoumen\\appdata\\roaming\\python\\python38\\site-packages (from matplotlib->mediapipe) (2.9.0.post0)\n",
      "Collecting pyparsing>=2.3.1\n",
      "  Downloading pyparsing-3.1.4-py3-none-any.whl (104 kB)\n",
      "Collecting pillow>=6.2.0\n",
      "  Downloading pillow-10.4.0-cp38-cp38-win_amd64.whl (2.6 MB)\n",
      "Requirement already satisfied: packaging>=20.0 in c:\\users\\abdelmoumen\\appdata\\roaming\\python\\python38\\site-packages (from matplotlib->mediapipe) (24.2)\n",
      "Collecting cycler>=0.10\n",
      "  Using cached cycler-0.12.1-py3-none-any.whl (8.3 kB)\n",
      "Collecting contourpy>=1.0.1\n",
      "  Downloading contourpy-1.1.1-cp38-cp38-win_amd64.whl (477 kB)\n",
      "Collecting fonttools>=4.22.0\n",
      "  Downloading fonttools-4.55.3-cp38-cp38-win_amd64.whl (1.5 MB)\n",
      "Collecting importlib-resources>=3.2.0\n",
      "  Downloading importlib_resources-6.4.5-py3-none-any.whl (36 kB)\n",
      "Requirement already satisfied: six>=1.5 in c:\\users\\abdelmoumen\\appdata\\roaming\\python\\python38\\site-packages (from python-dateutil>=2.7->matplotlib->mediapipe) (1.14.0)\n",
      "Building wheels for collected packages: jax\n",
      "  Building wheel for jax (PEP 517): started\n",
      "  Building wheel for jax (PEP 517): finished with status 'done'\n",
      "  Created wheel for jax: filename=jax-0.4.13-py3-none-any.whl size=1518827 sha256=dde6ae66d38505a8b2abfe837aafd4b2083ef89a46a1627b3b0e81f2b6f610f2\n",
      "  Stored in directory: c:\\users\\abdelmoumen\\appdata\\local\\pip\\cache\\wheels\\46\\d9\\15\\d2800d4089dc4c77299ac7513c6aa1036f5491edbd2bf6ba16\n",
      "Successfully built jax\n",
      "Installing collected packages: pycparser, scipy, pyparsing, pillow, opt-einsum, ml-dtypes, kiwisolver, importlib-resources, fonttools, cycler, contourpy, CFFI, sounddevice, protobuf, opencv-contrib-python, matplotlib, jax, flatbuffers, attrs, absl-py, mediapipe\n",
      "Successfully installed CFFI-1.17.1 absl-py-2.1.0 attrs-24.3.0 contourpy-1.1.1 cycler-0.12.1 flatbuffers-24.12.23 fonttools-4.55.3 importlib-resources-6.4.5 jax-0.4.13 kiwisolver-1.4.7 matplotlib-3.7.5 mediapipe-0.10.11 ml-dtypes-0.2.0 opencv-contrib-python-4.10.0.84 opt-einsum-3.4.0 pillow-10.4.0 protobuf-3.20.3 pycparser-2.22 pyparsing-3.1.4 scipy-1.10.1 sounddevice-0.5.1\n",
      "Note: you may need to restart the kernel to use updated packages.\n"
     ]
    },
    {
     "name": "stderr",
     "output_type": "stream",
     "text": [
      "  WARNING: The scripts fonttools.exe, pyftmerge.exe, pyftsubset.exe and ttx.exe are installed in 'c:\\Users\\Abdelmoumen\\AppData\\Local\\Programs\\Python\\Python38\\Scripts' which is not on PATH.\n",
      "  Consider adding this directory to PATH or, if you prefer to suppress this warning, use --no-warn-script-location.\n",
      "WARNING: You are using pip version 21.1.1; however, version 24.3.1 is available.\n",
      "You should consider upgrading via the 'c:\\Users\\Abdelmoumen\\AppData\\Local\\Programs\\Python\\Python38\\python.exe -m pip install --upgrade pip' command.\n"
     ]
    }
   ],
   "source": [
    "pip install mediapipe"
   ]
  }
 ],
 "metadata": {
  "kernelspec": {
   "display_name": "Python 3",
   "language": "python",
   "name": "python3"
  },
  "language_info": {
   "codemirror_mode": {
    "name": "ipython",
    "version": 3
   },
   "file_extension": ".py",
   "mimetype": "text/x-python",
   "name": "python",
   "nbconvert_exporter": "python",
   "pygments_lexer": "ipython3",
   "version": "3.8.10"
  }
 },
 "nbformat": 4,
 "nbformat_minor": 2
}
